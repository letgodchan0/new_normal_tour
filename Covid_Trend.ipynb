{
 "cells": [
  {
   "cell_type": "code",
   "execution_count": 1,
   "id": "2e0d8116",
   "metadata": {},
   "outputs": [],
   "source": [
    "import pandas as pd\n",
    "import numpy as np\n",
    "import matplotlib.pyplot as plt\n",
    "import seaborn as sns\n",
    "\n",
    "import warnings\n",
    "warnings.filterwarnings(\"ignore\", category=RuntimeWarning)\n",
    "\n",
    "from matplotlib import font_manager, rc\n",
    "font_path = \"C:\\Windows\\Fonts\\gulim.ttc\"\n",
    "font = font_manager.FontProperties(fname=font_path).get_name()\n",
    "rc('font', family=font)"
   ]
  },
  {
   "cell_type": "markdown",
   "id": "3062aeb2",
   "metadata": {},
   "source": [
    "# 내국인 데이터"
   ]
  },
  {
   "cell_type": "code",
   "execution_count": 2,
   "id": "6da51350",
   "metadata": {},
   "outputs": [
    {
     "name": "stderr",
     "output_type": "stream",
     "text": [
      "C:\\Users\\user\\anaconda3\\lib\\site-packages\\IPython\\core\\interactiveshell.py:3165: DtypeWarning: Columns (6) have mixed types.Specify dtype option on import or set low_memory=False.\n",
      "  has_raised = await self.run_ast_nodes(code_ast.body, cell_name,\n"
     ]
    }
   ],
   "source": [
    "df = pd.read_table('C:/Users/user/python programming/공모전/NATIVE_re.txt',sep='|')"
   ]
  },
  {
   "cell_type": "code",
   "execution_count": 3,
   "id": "7974c555",
   "metadata": {},
   "outputs": [],
   "source": [
    "df.columns =['거주지','17시 도', '시군구', '가맹점 대분류', '가맹점 소분류', '성별', '연령대', '이용년월', '요일', '이용 시간대', '취급액', '이용건수']"
   ]
  },
  {
   "cell_type": "code",
   "execution_count": 4,
   "id": "749ef47d",
   "metadata": {},
   "outputs": [],
   "source": [
    "# df.describe()"
   ]
  },
  {
   "cell_type": "code",
   "execution_count": 5,
   "id": "4b2e861d",
   "metadata": {},
   "outputs": [],
   "source": [
    "# df.info()"
   ]
  },
  {
   "cell_type": "code",
   "execution_count": 6,
   "id": "3cce27c2",
   "metadata": {},
   "outputs": [],
   "source": [
    "# df.isna().sum()"
   ]
  },
  {
   "cell_type": "markdown",
   "id": "df7553c6",
   "metadata": {},
   "source": [
    "- 결측치 처리"
   ]
  },
  {
   "cell_type": "code",
   "execution_count": 7,
   "id": "2f85513a",
   "metadata": {},
   "outputs": [],
   "source": [
    "df = df.dropna(axis=0, how='any', inplace=False)"
   ]
  },
  {
   "cell_type": "code",
   "execution_count": 8,
   "id": "312d4405",
   "metadata": {},
   "outputs": [],
   "source": [
    "# df.isna().sum()"
   ]
  },
  {
   "cell_type": "markdown",
   "id": "6b8edfdc",
   "metadata": {},
   "source": [
    "- 전처리"
   ]
  },
  {
   "cell_type": "code",
   "execution_count": 9,
   "id": "317627fb",
   "metadata": {},
   "outputs": [],
   "source": [
    "# df.head()"
   ]
  },
  {
   "cell_type": "code",
   "execution_count": 10,
   "id": "b4bf5f8d",
   "metadata": {},
   "outputs": [
    {
     "data": {
      "text/plain": [
       "17시 도\n",
       "세종       312524\n",
       "dtype: int64"
      ]
     },
     "execution_count": 10,
     "metadata": {},
     "output_type": "execute_result"
    }
   ],
   "source": [
    "df[df['시군구']=='.'][['17시 도']].value_counts()"
   ]
  },
  {
   "cell_type": "code",
   "execution_count": 11,
   "id": "ff978952",
   "metadata": {},
   "outputs": [],
   "source": [
    "# df[df['시군구']=='.'][['17시 도']=='세종']='a'\n",
    "\n",
    "condition1 = (df['시군구']=='.')\n",
    "condition2 = (df['17시 도']=='세종')\n",
    "\n",
    "df.loc[condition1 & condition2, ['시군구']] = '세종'"
   ]
  },
  {
   "cell_type": "code",
   "execution_count": 1,
   "id": "bb3695ee",
   "metadata": {},
   "outputs": [],
   "source": [
    "# df[df['17시 도']=='세종']"
   ]
  },
  {
   "cell_type": "markdown",
   "id": "32414bda",
   "metadata": {},
   "source": [
    "- 요일 한글로 바꾸기"
   ]
  },
  {
   "cell_type": "code",
   "execution_count": 13,
   "id": "a4db91ec",
   "metadata": {},
   "outputs": [],
   "source": [
    "condition1 = (df['요일']=='RED')\n",
    "condition2 = (df['요일']=='WHITE')"
   ]
  },
  {
   "cell_type": "code",
   "execution_count": 14,
   "id": "3707865a",
   "metadata": {},
   "outputs": [],
   "source": [
    "df.loc[condition1, ['요일']] = '주말'\n",
    "df.loc[condition2, ['요일']] = '평일'"
   ]
  },
  {
   "cell_type": "markdown",
   "id": "6add25fe",
   "metadata": {},
   "source": [
    "- 성별 한글로 바꾸기"
   ]
  },
  {
   "cell_type": "code",
   "execution_count": 15,
   "id": "1021dc63",
   "metadata": {},
   "outputs": [],
   "source": [
    "condition1 = (df['성별']=='M')\n",
    "condition2 = (df['성별']=='F')"
   ]
  },
  {
   "cell_type": "code",
   "execution_count": 16,
   "id": "5602aaa3",
   "metadata": {},
   "outputs": [],
   "source": [
    "df.loc[condition1, ['성별']] = '여자'\n",
    "df.loc[condition2, ['성별']] = '남자'"
   ]
  },
  {
   "cell_type": "markdown",
   "id": "07b1bb89",
   "metadata": {},
   "source": [
    "- 연령대 통일하기 (숫자랑 문자열이 같이 있음, 20이랑 '20' 묶어주기)"
   ]
  },
  {
   "cell_type": "code",
   "execution_count": 17,
   "id": "8d8705d2",
   "metadata": {},
   "outputs": [],
   "source": [
    "condition1 = (df['연령대']=='20')\n",
    "condition2 = (df['연령대']=='30')\n",
    "condition3 = (df['연령대']=='40')\n",
    "condition4 = (df['연령대']=='50')\n",
    "condition5 = (df['연령대']=='60')"
   ]
  },
  {
   "cell_type": "code",
   "execution_count": 18,
   "id": "c0e86a7f",
   "metadata": {},
   "outputs": [],
   "source": [
    "df.loc[condition1,['연령대']]=20\n",
    "df.loc[condition2,['연령대']]=30\n",
    "df.loc[condition3,['연령대']]=40\n",
    "df.loc[condition4,['연령대']]=50\n",
    "df.loc[condition5,['연령대']]=60"
   ]
  },
  {
   "cell_type": "code",
   "execution_count": 19,
   "id": "d278171e",
   "metadata": {},
   "outputs": [],
   "source": [
    "df = df[df.연령대 !='기타']"
   ]
  },
  {
   "cell_type": "code",
   "execution_count": 20,
   "id": "99db519e",
   "metadata": {},
   "outputs": [],
   "source": [
    "df = df[df.연령대 !='.']"
   ]
  },
  {
   "cell_type": "markdown",
   "id": "1ae29373",
   "metadata": {},
   "source": [
    "- 코로나 전후 컬럼 추가하기\n",
    "- 2020년 기준으로 코로나 전후로 나눔"
   ]
  },
  {
   "cell_type": "code",
   "execution_count": 21,
   "id": "a4bea106",
   "metadata": {},
   "outputs": [],
   "source": [
    "bins = [0, 202000, 202200]\n",
    "year_names = ['코로나 전', '코로나 후']\n",
    "df['코로나전후'] = pd.cut(df['이용년월'], bins, labels=year_names)"
   ]
  },
  {
   "cell_type": "code",
   "execution_count": 2,
   "id": "01a454bf",
   "metadata": {
    "scrolled": true
   },
   "outputs": [],
   "source": [
    "# df.head()"
   ]
  },
  {
   "cell_type": "markdown",
   "id": "3370a7da",
   "metadata": {},
   "source": [
    "## 코로나 전후 전체적인 이용건수의 변화"
   ]
  },
  {
   "cell_type": "code",
   "execution_count": 23,
   "id": "943eb398",
   "metadata": {
    "scrolled": true
   },
   "outputs": [
    {
     "data": {
      "text/plain": [
       "<AxesSubplot:xlabel='이용년월'>"
      ]
     },
     "execution_count": 23,
     "metadata": {},
     "output_type": "execute_result"
    },
    {
     "data": {
      "image/png": "[encoded data removed]",
      "text/plain": [
       "<Figure size 864x432 with 1 Axes>"
      ]
     },
     "metadata": {
      "needs_background": "light"
     },
     "output_type": "display_data"
    }
   ],
   "source": [
    "# 전년대비 변화\n",
    "plt.figure(figsize=(12,6))\n",
    "year = pd.DataFrame(df[['이용건수','취급액']].groupby(df['이용년월']).sum())\n",
    "(year['이용건수'].pct_change(periods=12)[12:]*100).plot(kind='bar')"
   ]
  },
  {
   "cell_type": "code",
   "execution_count": 24,
   "id": "ef5e5cfc",
   "metadata": {},
   "outputs": [
    {
     "data": {
      "text/plain": [
       "<AxesSubplot:xlabel='이용년월'>"
      ]
     },
     "execution_count": 24,
     "metadata": {},
     "output_type": "execute_result"
    },
    {
     "data": {
      "image/png": "[encoded data removed]",
      "text/plain": [
       "<Figure size 864x432 with 1 Axes>"
      ]
     },
     "metadata": {
      "needs_background": "light"
     },
     "output_type": "display_data"
    }
   ],
   "source": [
    "plt.figure(figsize=(12,6))\n",
    "(year['취급액'].pct_change(periods=12)[12:]*100).plot(kind='bar')"
   ]
  },
  {
   "cell_type": "markdown",
   "id": "b5ccbe10",
   "metadata": {},
   "source": [
    "## 시각화 (코로나 전후 비교)"
   ]
  },
  {
   "cell_type": "markdown",
   "id": "275e68a6",
   "metadata": {},
   "source": [
    "### 연령대 별 코로나 전후 매출 비교"
   ]
  },
  {
   "cell_type": "code",
   "execution_count": 25,
   "id": "45b341e0",
   "metadata": {},
   "outputs": [
    {
     "data": {
      "text/plain": [
       "<AxesSubplot:xlabel='연령대,코로나전후'>"
      ]
     },
     "execution_count": 25,
     "metadata": {},
     "output_type": "execute_result"
    },
    {
     "data": {
      "image/png": "[encoded data removed]",
      "text/plain": [
       "<Figure size 720x360 with 1 Axes>"
      ]
     },
     "metadata": {
      "needs_background": "light"
     },
     "output_type": "display_data"
    }
   ],
   "source": [
    "plt.figure(figsize=(10,5))\n",
    "colors = ['skyblue','violet']\n",
    "year_covid=df['취급액'].groupby([df['연령대'], df['코로나전후']]).sum()\n",
    "year_covid.plot(kind='bar', color=colors)"
   ]
  },
  {
   "cell_type": "markdown",
   "id": "30861370",
   "metadata": {},
   "source": [
    "- 모든 연령대에서 취급액 감소"
   ]
  },
  {
   "cell_type": "markdown",
   "id": "a44154ef",
   "metadata": {},
   "source": [
    "### 지역 별 코로나 전후 매출 비교"
   ]
  },
  {
   "cell_type": "code",
   "execution_count": 26,
   "id": "dfa74d08",
   "metadata": {},
   "outputs": [
    {
     "name": "stderr",
     "output_type": "stream",
     "text": [
      "<ipython-input-26-798f2b4280d8>:7: SettingWithCopyWarning: \n",
      "A value is trying to be set on a copy of a slice from a DataFrame.\n",
      "Try using .loc[row_indexer,col_indexer] = value instead\n",
      "\n",
      "See the caveats in the documentation: https://pandas.pydata.org/pandas-docs/stable/user_guide/indexing.html#returning-a-view-versus-a-copy\n",
      "  tem['건당취급액'] = tem['취급액']/ tem['이용건수']\n"
     ]
    }
   ],
   "source": [
    "use = {}\n",
    "amount = {}\n",
    "amount_per_use = {}\n",
    "\n",
    "for i in df['17시 도'].unique().tolist():\n",
    "    tem = df[df['17시 도']==i]\n",
    "    tem['건당취급액'] = tem['취급액']/ tem['이용건수']\n",
    "    tmp = pd.DataFrame(tem[['이용건수','취급액','건당취급액']].groupby(tem['이용년월']).sum())\n",
    "    \n",
    "    t = tmp['이용건수'].pct_change(periods=12)[12:]*100\n",
    "    use[i] = t\n",
    "    \n",
    "    t = tmp['취급액'].pct_change(periods=12)[12:]*100\n",
    "    amount[i] = t\n",
    "    \n",
    "    t = tmp['건당취급액'].pct_change(periods=12)[12:]*100\n",
    "    amount_per_use[i] = t"
   ]
  },
  {
   "cell_type": "code",
   "execution_count": 27,
   "id": "0bbf2141",
   "metadata": {},
   "outputs": [],
   "source": [
    "use = pd.DataFrame(use)\n",
    "amount = pd.DataFrame(amount)\n",
    "amount_per_use = pd.DataFrame(amount_per_use)"
   ]
  },
  {
   "cell_type": "code",
   "execution_count": 28,
   "id": "2f55c192",
   "metadata": {},
   "outputs": [],
   "source": [
    "CovidChangeUse = use[24:].mean().sort_values(ascending=False)\n",
    "CovidChangeAmount = amount[24:].mean().sort_values(ascending=False)\n",
    "CovidChangeAPU = amount_per_use[24:].mean().sort_values(ascending=False)"
   ]
  },
  {
   "cell_type": "code",
   "execution_count": 29,
   "id": "84c63327",
   "metadata": {},
   "outputs": [
    {
     "data": {
      "text/plain": [
       "<AxesSubplot:>"
      ]
     },
     "execution_count": 29,
     "metadata": {},
     "output_type": "execute_result"
    },
    {
     "data": {
      "image/png": "[encoded data removed]",
      "text/plain": [
       "<Figure size 1440x720 with 1 Axes>"
      ]
     },
     "metadata": {
      "needs_background": "light"
     },
     "output_type": "display_data"
    }
   ],
   "source": [
    "plt.rcParams[\"figure.figsize\"] = (20,10)\n",
    "\n",
    "CovidChangeUse.plot(kind='bar')\n",
    "CovidChangeAmount.plot(kind='bar')\n",
    "CovidChangeAPU.plot(kind='bar')"
   ]
  },
  {
   "cell_type": "markdown",
   "id": "69c419a0",
   "metadata": {},
   "source": [
    "### 가맹점 소분류 별 코로나 전후 매출 비교"
   ]
  },
  {
   "cell_type": "code",
   "execution_count": 30,
   "id": "c66e3f0a",
   "metadata": {},
   "outputs": [
    {
     "data": {
      "text/plain": [
       "array(['외식', '종합쇼핑', '미용', '패션쇼핑', '스포츠용품구매', '레저스포츠', '숙박', '목욕', '유흥',\n",
       "       '교육훈련', '독서', '인터넷게임', '교통', '애완동물돌보기', '관광쇼핑', '골프', '사진촬영',\n",
       "       '공연관람', '자전거', '여행사', '헬스', '체험', '종교활동', '음악감상', '미술공예참여', '악기연주',\n",
       "       '스키', '운동경기관람'], dtype=object)"
      ]
     },
     "execution_count": 30,
     "metadata": {},
     "output_type": "execute_result"
    }
   ],
   "source": [
    "df['가맹점 소분류'].unique()"
   ]
  },
  {
   "cell_type": "code",
   "execution_count": 31,
   "id": "a38d6f93",
   "metadata": {},
   "outputs": [
    {
     "name": "stderr",
     "output_type": "stream",
     "text": [
      "<ipython-input-31-e67a878a2560>:7: SettingWithCopyWarning: \n",
      "A value is trying to be set on a copy of a slice from a DataFrame.\n",
      "Try using .loc[row_indexer,col_indexer] = value instead\n",
      "\n",
      "See the caveats in the documentation: https://pandas.pydata.org/pandas-docs/stable/user_guide/indexing.html#returning-a-view-versus-a-copy\n",
      "  tem['건당취급액'] = tem['취급액']/ tem['이용건수']\n"
     ]
    }
   ],
   "source": [
    "use = {}\n",
    "amount = {}\n",
    "amount_per_use = {}\n",
    "\n",
    "for i in df['가맹점 소분류'].unique().tolist():\n",
    "    tem = df[df['가맹점 소분류']==i]\n",
    "    tem['건당취급액'] = tem['취급액']/ tem['이용건수']\n",
    "    tmp = pd.DataFrame(tem[['이용건수','취급액','건당취급액']].groupby(tem['이용년월']).sum())\n",
    "    \n",
    "    t = tmp['이용건수'].pct_change(periods=12)[12:]*100\n",
    "    use[i] = t\n",
    "    \n",
    "    t = tmp['취급액'].pct_change(periods=12)[12:]*100\n",
    "    amount[i] = t\n",
    "    \n",
    "    t = tmp['건당취급액'].pct_change(periods=12)[12:]*100\n",
    "    amount_per_use[i] = t"
   ]
  },
  {
   "cell_type": "code",
   "execution_count": 32,
   "id": "63cae0d0",
   "metadata": {},
   "outputs": [],
   "source": [
    "use = pd.DataFrame(use)\n",
    "amount = pd.DataFrame(amount)\n",
    "amount_per_use = pd.DataFrame(amount_per_use)"
   ]
  },
  {
   "cell_type": "code",
   "execution_count": 33,
   "id": "593f140b",
   "metadata": {},
   "outputs": [],
   "source": [
    "CovidChangeUse = use[24:].mean().sort_values(ascending=False)\n",
    "CovidChangeAmount = amount[24:].mean().sort_values(ascending=False)\n",
    "CovidChangeAPU = amount_per_use[24:].mean().sort_values(ascending=False)"
   ]
  },
  {
   "cell_type": "code",
   "execution_count": 34,
   "id": "bf32c75c",
   "metadata": {},
   "outputs": [
    {
     "data": {
      "text/plain": [
       "<AxesSubplot:>"
      ]
     },
     "execution_count": 34,
     "metadata": {},
     "output_type": "execute_result"
    },
    {
     "data": {
      "image/png": "[encoded data removed]",
      "text/plain": [
       "<Figure size 1440x720 with 1 Axes>"
      ]
     },
     "metadata": {
      "needs_background": "light"
     },
     "output_type": "display_data"
    }
   ],
   "source": [
    "plt.rcParams[\"figure.figsize\"] = (20,10)\n",
    "\n",
    "CovidChangeUse.plot(kind='bar')\n",
    "CovidChangeAmount.plot(kind='bar')\n",
    "CovidChangeAPU.plot(kind='bar')"
   ]
  },
  {
   "cell_type": "markdown",
   "id": "2fe5eed5",
   "metadata": {},
   "source": [
    "## EDA"
   ]
  },
  {
   "cell_type": "markdown",
   "id": "c0a8bb4e",
   "metadata": {},
   "source": [
    "- 전년대비 소비가 증가한 다섯가지\n",
    "    - 자전거: 실외활동 (일상에서 흔히  이용할 수 있는 활동)\n",
    "    - 골프: 실외활동 (사람들 간의 거리가 먼 스포츠)\n",
    "    - 애완동물 돌보기: 집에 있는 시간이 증가함에 따라 반려동물에 대한 수요 증가\n",
    "    - 종교활동: 온라인 활동으로 인한 증가로 보여짐(언택트)\n",
    "    - 인터넷 게임: 외부 대면 활동을 못하기 때문에 비대면 활동인 게임에 대한 수요 증가(언택트)"
   ]
  },
  {
   "cell_type": "markdown",
   "id": "d9381a02",
   "metadata": {},
   "source": [
    "- 건당 취급액으로 보면 헬스, 공연관람, 악기연주, 종합쇼핑, 교육훈련 까지도 소비가 증가함"
   ]
  },
  {
   "cell_type": "code",
   "execution_count": 35,
   "id": "11338757",
   "metadata": {},
   "outputs": [],
   "source": [
    "from IPython.display import display_html\n",
    "def display_side_by_side(*args):\n",
    "    \"\"\"여러 데이터프레임 비교가 쉽게 옆쪽으로 표시한다\"\"\"\n",
    "    html_str=''\n",
    "    for df in args:\n",
    "        html_str += df.to_html()\n",
    "    display_html(html_str.replace('table','table style=\"display:inline\"'), raw=True)"
   ]
  },
  {
   "cell_type": "code",
   "execution_count": 36,
   "id": "45e61628",
   "metadata": {},
   "outputs": [
    {
     "data": {
      "text/html": [
       "<table style=\"display:inline\" border=\"1\" class=\"dataframe\">\n",
       "  <thead>\n",
       "    <tr style=\"text-align: right;\">\n",
       "      <th></th>\n",
       "      <th>이용건수</th>\n",
       "    </tr>\n",
       "  </thead>\n",
       "  <tbody>\n",
       "    <tr>\n",
       "      <th>자전거</th>\n",
       "      <td>25.775334</td>\n",
       "    </tr>\n",
       "    <tr>\n",
       "      <th>골프</th>\n",
       "      <td>10.700710</td>\n",
       "    </tr>\n",
       "    <tr>\n",
       "      <th>종합쇼핑</th>\n",
       "      <td>8.763514</td>\n",
       "    </tr>\n",
       "    <tr>\n",
       "      <th>종교활동</th>\n",
       "      <td>6.402491</td>\n",
       "    </tr>\n",
       "    <tr>\n",
       "      <th>애완동물돌보기</th>\n",
       "      <td>3.732942</td>\n",
       "    </tr>\n",
       "    <tr>\n",
       "      <th>교육훈련</th>\n",
       "      <td>-2.833828</td>\n",
       "    </tr>\n",
       "    <tr>\n",
       "      <th>체험</th>\n",
       "      <td>-4.961778</td>\n",
       "    </tr>\n",
       "    <tr>\n",
       "      <th>사진촬영</th>\n",
       "      <td>-8.128678</td>\n",
       "    </tr>\n",
       "    <tr>\n",
       "      <th>미술공예참여</th>\n",
       "      <td>-10.025936</td>\n",
       "    </tr>\n",
       "    <tr>\n",
       "      <th>스포츠용품구매</th>\n",
       "      <td>-10.126161</td>\n",
       "    </tr>\n",
       "    <tr>\n",
       "      <th>외식</th>\n",
       "      <td>-11.406592</td>\n",
       "    </tr>\n",
       "    <tr>\n",
       "      <th>헬스</th>\n",
       "      <td>-11.862564</td>\n",
       "    </tr>\n",
       "    <tr>\n",
       "      <th>인터넷게임</th>\n",
       "      <td>-12.724817</td>\n",
       "    </tr>\n",
       "    <tr>\n",
       "      <th>숙박</th>\n",
       "      <td>-14.145355</td>\n",
       "    </tr>\n",
       "    <tr>\n",
       "      <th>패션쇼핑</th>\n",
       "      <td>-14.248927</td>\n",
       "    </tr>\n",
       "    <tr>\n",
       "      <th>독서</th>\n",
       "      <td>-14.264332</td>\n",
       "    </tr>\n",
       "    <tr>\n",
       "      <th>미용</th>\n",
       "      <td>-14.907532</td>\n",
       "    </tr>\n",
       "    <tr>\n",
       "      <th>악기연주</th>\n",
       "      <td>-14.921083</td>\n",
       "    </tr>\n",
       "    <tr>\n",
       "      <th>운동경기관람</th>\n",
       "      <td>-20.354023</td>\n",
       "    </tr>\n",
       "    <tr>\n",
       "      <th>교통</th>\n",
       "      <td>-21.680007</td>\n",
       "    </tr>\n",
       "    <tr>\n",
       "      <th>음악감상</th>\n",
       "      <td>-26.726112</td>\n",
       "    </tr>\n",
       "    <tr>\n",
       "      <th>관광쇼핑</th>\n",
       "      <td>-26.905718</td>\n",
       "    </tr>\n",
       "    <tr>\n",
       "      <th>스키</th>\n",
       "      <td>-30.127863</td>\n",
       "    </tr>\n",
       "    <tr>\n",
       "      <th>레저스포츠</th>\n",
       "      <td>-31.110513</td>\n",
       "    </tr>\n",
       "    <tr>\n",
       "      <th>공연관람</th>\n",
       "      <td>-35.990275</td>\n",
       "    </tr>\n",
       "    <tr>\n",
       "      <th>유흥</th>\n",
       "      <td>-37.475643</td>\n",
       "    </tr>\n",
       "    <tr>\n",
       "      <th>여행사</th>\n",
       "      <td>-39.047419</td>\n",
       "    </tr>\n",
       "    <tr>\n",
       "      <th>목욕</th>\n",
       "      <td>-45.955376</td>\n",
       "    </tr>\n",
       "  </tbody>\n",
       "</table style=\"display:inline\"><table style=\"display:inline\" border=\"1\" class=\"dataframe\">\n",
       "  <thead>\n",
       "    <tr style=\"text-align: right;\">\n",
       "      <th></th>\n",
       "      <th>취급액</th>\n",
       "    </tr>\n",
       "  </thead>\n",
       "  <tbody>\n",
       "    <tr>\n",
       "      <th>골프</th>\n",
       "      <td>57.254733</td>\n",
       "    </tr>\n",
       "    <tr>\n",
       "      <th>자전거</th>\n",
       "      <td>40.366366</td>\n",
       "    </tr>\n",
       "    <tr>\n",
       "      <th>애완동물돌보기</th>\n",
       "      <td>12.821549</td>\n",
       "    </tr>\n",
       "    <tr>\n",
       "      <th>종합쇼핑</th>\n",
       "      <td>9.421812</td>\n",
       "    </tr>\n",
       "    <tr>\n",
       "      <th>종교활동</th>\n",
       "      <td>6.027612</td>\n",
       "    </tr>\n",
       "    <tr>\n",
       "      <th>헬스</th>\n",
       "      <td>0.357123</td>\n",
       "    </tr>\n",
       "    <tr>\n",
       "      <th>미술공예참여</th>\n",
       "      <td>-1.628411</td>\n",
       "    </tr>\n",
       "    <tr>\n",
       "      <th>인터넷게임</th>\n",
       "      <td>-2.133935</td>\n",
       "    </tr>\n",
       "    <tr>\n",
       "      <th>교육훈련</th>\n",
       "      <td>-3.193566</td>\n",
       "    </tr>\n",
       "    <tr>\n",
       "      <th>악기연주</th>\n",
       "      <td>-4.205329</td>\n",
       "    </tr>\n",
       "    <tr>\n",
       "      <th>스포츠용품구매</th>\n",
       "      <td>-8.961831</td>\n",
       "    </tr>\n",
       "    <tr>\n",
       "      <th>패션쇼핑</th>\n",
       "      <td>-9.313353</td>\n",
       "    </tr>\n",
       "    <tr>\n",
       "      <th>숙박</th>\n",
       "      <td>-9.565195</td>\n",
       "    </tr>\n",
       "    <tr>\n",
       "      <th>사진촬영</th>\n",
       "      <td>-9.578087</td>\n",
       "    </tr>\n",
       "    <tr>\n",
       "      <th>미용</th>\n",
       "      <td>-11.322470</td>\n",
       "    </tr>\n",
       "    <tr>\n",
       "      <th>체험</th>\n",
       "      <td>-11.795710</td>\n",
       "    </tr>\n",
       "    <tr>\n",
       "      <th>독서</th>\n",
       "      <td>-12.165635</td>\n",
       "    </tr>\n",
       "    <tr>\n",
       "      <th>외식</th>\n",
       "      <td>-17.602260</td>\n",
       "    </tr>\n",
       "    <tr>\n",
       "      <th>공연관람</th>\n",
       "      <td>-21.336373</td>\n",
       "    </tr>\n",
       "    <tr>\n",
       "      <th>관광쇼핑</th>\n",
       "      <td>-26.214129</td>\n",
       "    </tr>\n",
       "    <tr>\n",
       "      <th>레저스포츠</th>\n",
       "      <td>-30.110262</td>\n",
       "    </tr>\n",
       "    <tr>\n",
       "      <th>음악감상</th>\n",
       "      <td>-30.161611</td>\n",
       "    </tr>\n",
       "    <tr>\n",
       "      <th>운동경기관람</th>\n",
       "      <td>-32.203187</td>\n",
       "    </tr>\n",
       "    <tr>\n",
       "      <th>교통</th>\n",
       "      <td>-34.671437</td>\n",
       "    </tr>\n",
       "    <tr>\n",
       "      <th>목욕</th>\n",
       "      <td>-40.328474</td>\n",
       "    </tr>\n",
       "    <tr>\n",
       "      <th>스키</th>\n",
       "      <td>-41.369046</td>\n",
       "    </tr>\n",
       "    <tr>\n",
       "      <th>유흥</th>\n",
       "      <td>-42.211479</td>\n",
       "    </tr>\n",
       "    <tr>\n",
       "      <th>여행사</th>\n",
       "      <td>-71.985544</td>\n",
       "    </tr>\n",
       "  </tbody>\n",
       "</table style=\"display:inline\"><table style=\"display:inline\" border=\"1\" class=\"dataframe\">\n",
       "  <thead>\n",
       "    <tr style=\"text-align: right;\">\n",
       "      <th></th>\n",
       "      <th>건당취급액</th>\n",
       "    </tr>\n",
       "  </thead>\n",
       "  <tbody>\n",
       "    <tr>\n",
       "      <th>자전거</th>\n",
       "      <td>21.585972</td>\n",
       "    </tr>\n",
       "    <tr>\n",
       "      <th>골프</th>\n",
       "      <td>17.078888</td>\n",
       "    </tr>\n",
       "    <tr>\n",
       "      <th>애완동물돌보기</th>\n",
       "      <td>12.050463</td>\n",
       "    </tr>\n",
       "    <tr>\n",
       "      <th>종교활동</th>\n",
       "      <td>6.941481</td>\n",
       "    </tr>\n",
       "    <tr>\n",
       "      <th>헬스</th>\n",
       "      <td>5.088646</td>\n",
       "    </tr>\n",
       "    <tr>\n",
       "      <th>인터넷게임</th>\n",
       "      <td>3.544182</td>\n",
       "    </tr>\n",
       "    <tr>\n",
       "      <th>공연관람</th>\n",
       "      <td>3.254457</td>\n",
       "    </tr>\n",
       "    <tr>\n",
       "      <th>악기연주</th>\n",
       "      <td>0.777799</td>\n",
       "    </tr>\n",
       "    <tr>\n",
       "      <th>종합쇼핑</th>\n",
       "      <td>0.476057</td>\n",
       "    </tr>\n",
       "    <tr>\n",
       "      <th>미술공예참여</th>\n",
       "      <td>-1.281272</td>\n",
       "    </tr>\n",
       "    <tr>\n",
       "      <th>교육훈련</th>\n",
       "      <td>-1.482137</td>\n",
       "    </tr>\n",
       "    <tr>\n",
       "      <th>미용</th>\n",
       "      <td>-2.863083</td>\n",
       "    </tr>\n",
       "    <tr>\n",
       "      <th>패션쇼핑</th>\n",
       "      <td>-3.156090</td>\n",
       "    </tr>\n",
       "    <tr>\n",
       "      <th>사진촬영</th>\n",
       "      <td>-3.249255</td>\n",
       "    </tr>\n",
       "    <tr>\n",
       "      <th>스포츠용품구매</th>\n",
       "      <td>-3.432471</td>\n",
       "    </tr>\n",
       "    <tr>\n",
       "      <th>숙박</th>\n",
       "      <td>-7.027431</td>\n",
       "    </tr>\n",
       "    <tr>\n",
       "      <th>외식</th>\n",
       "      <td>-7.383558</td>\n",
       "    </tr>\n",
       "    <tr>\n",
       "      <th>독서</th>\n",
       "      <td>-7.801089</td>\n",
       "    </tr>\n",
       "    <tr>\n",
       "      <th>운동경기관람</th>\n",
       "      <td>-7.814652</td>\n",
       "    </tr>\n",
       "    <tr>\n",
       "      <th>레저스포츠</th>\n",
       "      <td>-14.930216</td>\n",
       "    </tr>\n",
       "    <tr>\n",
       "      <th>체험</th>\n",
       "      <td>-14.997946</td>\n",
       "    </tr>\n",
       "    <tr>\n",
       "      <th>음악감상</th>\n",
       "      <td>-24.112160</td>\n",
       "    </tr>\n",
       "    <tr>\n",
       "      <th>목욕</th>\n",
       "      <td>-25.037927</td>\n",
       "    </tr>\n",
       "    <tr>\n",
       "      <th>유흥</th>\n",
       "      <td>-25.466238</td>\n",
       "    </tr>\n",
       "    <tr>\n",
       "      <th>스키</th>\n",
       "      <td>-27.559987</td>\n",
       "    </tr>\n",
       "    <tr>\n",
       "      <th>교통</th>\n",
       "      <td>-28.793418</td>\n",
       "    </tr>\n",
       "    <tr>\n",
       "      <th>관광쇼핑</th>\n",
       "      <td>-29.094258</td>\n",
       "    </tr>\n",
       "    <tr>\n",
       "      <th>여행사</th>\n",
       "      <td>-54.120864</td>\n",
       "    </tr>\n",
       "  </tbody>\n",
       "</table style=\"display:inline\">"
      ]
     },
     "metadata": {},
     "output_type": "display_data"
    }
   ],
   "source": [
    "display_side_by_side(pd.DataFrame(CovidChangeUse, columns=['이용건수']), pd.DataFrame(CovidChangeAmount, columns=['취급액']), pd.DataFrame(CovidChangeAPU, columns=['건당취급액']))"
   ]
  },
  {
   "cell_type": "code",
   "execution_count": 38,
   "id": "c0a4532f",
   "metadata": {},
   "outputs": [
    {
     "data": {
      "text/html": [
       "<div>\n",
       "<style scoped>\n",
       "    .dataframe tbody tr th:only-of-type {\n",
       "        vertical-align: middle;\n",
       "    }\n",
       "\n",
       "    .dataframe tbody tr th {\n",
       "        vertical-align: top;\n",
       "    }\n",
       "\n",
       "    .dataframe thead th {\n",
       "        text-align: right;\n",
       "    }\n",
       "</style>\n",
       "<table border=\"1\" class=\"dataframe\">\n",
       "  <thead>\n",
       "    <tr style=\"text-align: right;\">\n",
       "      <th></th>\n",
       "      <th></th>\n",
       "      <th>거주지</th>\n",
       "      <th>취급액</th>\n",
       "      <th>이용건수</th>\n",
       "      <th>성별</th>\n",
       "      <th>연령대</th>\n",
       "      <th>요일</th>\n",
       "      <th>이용 시간대</th>\n",
       "    </tr>\n",
       "    <tr>\n",
       "      <th>17시 도</th>\n",
       "      <th>이용년월</th>\n",
       "      <th></th>\n",
       "      <th></th>\n",
       "      <th></th>\n",
       "      <th></th>\n",
       "      <th></th>\n",
       "      <th></th>\n",
       "      <th></th>\n",
       "    </tr>\n",
       "  </thead>\n",
       "  <tbody>\n",
       "    <tr>\n",
       "      <th rowspan=\"5\" valign=\"top\">강원</th>\n",
       "      <th>201701</th>\n",
       "      <td>강원</td>\n",
       "      <td>278400</td>\n",
       "      <td>4</td>\n",
       "      <td>남자</td>\n",
       "      <td>30</td>\n",
       "      <td>평일</td>\n",
       "      <td>휴식</td>\n",
       "    </tr>\n",
       "    <tr>\n",
       "      <th>201701</th>\n",
       "      <td>강원</td>\n",
       "      <td>222720</td>\n",
       "      <td>4</td>\n",
       "      <td>여자</td>\n",
       "      <td>50</td>\n",
       "      <td>주말</td>\n",
       "      <td>활동</td>\n",
       "    </tr>\n",
       "    <tr>\n",
       "      <th>201701</th>\n",
       "      <td>강원</td>\n",
       "      <td>1206400</td>\n",
       "      <td>4</td>\n",
       "      <td>여자</td>\n",
       "      <td>40</td>\n",
       "      <td>평일</td>\n",
       "      <td>휴식</td>\n",
       "    </tr>\n",
       "    <tr>\n",
       "      <th>201701</th>\n",
       "      <td>경기</td>\n",
       "      <td>48720</td>\n",
       "      <td>4</td>\n",
       "      <td>여자</td>\n",
       "      <td>50</td>\n",
       "      <td>주말</td>\n",
       "      <td>활동</td>\n",
       "    </tr>\n",
       "    <tr>\n",
       "      <th>201701</th>\n",
       "      <td>서울</td>\n",
       "      <td>139200</td>\n",
       "      <td>4</td>\n",
       "      <td>여자</td>\n",
       "      <td>60</td>\n",
       "      <td>주말</td>\n",
       "      <td>활동</td>\n",
       "    </tr>\n",
       "    <tr>\n",
       "      <th>...</th>\n",
       "      <th>...</th>\n",
       "      <td>...</td>\n",
       "      <td>...</td>\n",
       "      <td>...</td>\n",
       "      <td>...</td>\n",
       "      <td>...</td>\n",
       "      <td>...</td>\n",
       "      <td>...</td>\n",
       "    </tr>\n",
       "    <tr>\n",
       "      <th rowspan=\"5\" valign=\"top\">충북</th>\n",
       "      <th>202105</th>\n",
       "      <td>충북</td>\n",
       "      <td>1679700</td>\n",
       "      <td>25</td>\n",
       "      <td>여자</td>\n",
       "      <td>30</td>\n",
       "      <td>주말</td>\n",
       "      <td>활동</td>\n",
       "    </tr>\n",
       "    <tr>\n",
       "      <th>202105</th>\n",
       "      <td>서울</td>\n",
       "      <td>50900</td>\n",
       "      <td>5</td>\n",
       "      <td>여자</td>\n",
       "      <td>50</td>\n",
       "      <td>평일</td>\n",
       "      <td>활동</td>\n",
       "    </tr>\n",
       "    <tr>\n",
       "      <th>202105</th>\n",
       "      <td>충북</td>\n",
       "      <td>9538660</td>\n",
       "      <td>127</td>\n",
       "      <td>남자</td>\n",
       "      <td>50</td>\n",
       "      <td>평일</td>\n",
       "      <td>활동</td>\n",
       "    </tr>\n",
       "    <tr>\n",
       "      <th>202105</th>\n",
       "      <td>충북</td>\n",
       "      <td>5624450</td>\n",
       "      <td>30</td>\n",
       "      <td>여자</td>\n",
       "      <td>30</td>\n",
       "      <td>평일</td>\n",
       "      <td>활동</td>\n",
       "    </tr>\n",
       "    <tr>\n",
       "      <th>202105</th>\n",
       "      <td>충북</td>\n",
       "      <td>432650</td>\n",
       "      <td>15</td>\n",
       "      <td>여자</td>\n",
       "      <td>40</td>\n",
       "      <td>평일</td>\n",
       "      <td>활동</td>\n",
       "    </tr>\n",
       "  </tbody>\n",
       "</table>\n",
       "<p>348600 rows × 7 columns</p>\n",
       "</div>"
      ],
      "text/plain": [
       "             거주지      취급액  이용건수  성별 연령대  요일 이용 시간대\n",
       "17시 도 이용년월                                        \n",
       "강원    201701  강원   278400     4  남자  30  평일     휴식\n",
       "      201701  강원   222720     4  여자  50  주말     활동\n",
       "      201701  강원  1206400     4  여자  40  평일     휴식\n",
       "      201701  경기    48720     4  여자  50  주말     활동\n",
       "      201701  서울   139200     4  여자  60  주말     활동\n",
       "...           ..      ...   ...  ..  ..  ..    ...\n",
       "충북    202105  충북  1679700    25  여자  30  주말     활동\n",
       "      202105  서울    50900     5  여자  50  평일     활동\n",
       "      202105  충북  9538660   127  남자  50  평일     활동\n",
       "      202105  충북  5624450    30  여자  30  평일     활동\n",
       "      202105  충북   432650    15  여자  40  평일     활동\n",
       "\n",
       "[348600 rows x 7 columns]"
      ]
     },
     "execution_count": 38,
     "metadata": {},
     "output_type": "execute_result"
    }
   ],
   "source": [
    "bike = df.loc[df['가맹점 소분류']=='자전거',['이용년월','17시 도', '거주지', '취급액', '이용건수', '성별', '연령대',\n",
    "       '요일', '이용 시간대']]\n",
    "\n",
    "bike.reset_index(drop=True, inplace=True)\n",
    "bike_multi = bike.set_index(['17시 도','이용년월']).sort_index()\n",
    "bike_multi"
   ]
  },
  {
   "cell_type": "code",
   "execution_count": 39,
   "id": "dfcddf15",
   "metadata": {},
   "outputs": [
    {
     "data": {
      "text/plain": [
       "<AxesSubplot:xlabel='이용년월'>"
      ]
     },
     "execution_count": 39,
     "metadata": {},
     "output_type": "execute_result"
    },
    {
     "data": {
      "image/png": "[encoded data removed]",
      "text/plain": [
       "<Figure size 720x432 with 2 Axes>"
      ]
     },
     "metadata": {
      "needs_background": "light"
     },
     "output_type": "display_data"
    }
   ],
   "source": [
    "f, ax = plt.subplots(figsize = (10, 6)) \n",
    "\n",
    "plt.subplot(211)\n",
    "bike_multi.sum(level='이용년월')['취급액'].plot()\n",
    "\n",
    "plt.subplot(212)\n",
    "bike_multi.sum(level='이용년월')['이용건수'].plot()"
   ]
  },
  {
   "cell_type": "markdown",
   "id": "05f5f150",
   "metadata": {},
   "source": [
    "- 전체적인 매출, 이용건수의 증가 추이 -> 코로나 이후 변화가 뚜렷한 것으로 파악"
   ]
  },
  {
   "cell_type": "markdown",
   "id": "c46536c9",
   "metadata": {},
   "source": [
    "### 2021년 이후 가장 빠르게 회복되고 있는 카테고리 찾아보기"
   ]
  },
  {
   "cell_type": "code",
   "execution_count": 43,
   "id": "fc7bc31c",
   "metadata": {},
   "outputs": [
    {
     "data": {
      "text/html": [
       "<div>\n",
       "<style scoped>\n",
       "    .dataframe tbody tr th:only-of-type {\n",
       "        vertical-align: middle;\n",
       "    }\n",
       "\n",
       "    .dataframe tbody tr th {\n",
       "        vertical-align: top;\n",
       "    }\n",
       "\n",
       "    .dataframe thead th {\n",
       "        text-align: right;\n",
       "    }\n",
       "</style>\n",
       "<table border=\"1\" class=\"dataframe\">\n",
       "  <thead>\n",
       "    <tr style=\"text-align: right;\">\n",
       "      <th>이용년월</th>\n",
       "      <th>202101</th>\n",
       "      <th>202102</th>\n",
       "      <th>202103</th>\n",
       "      <th>202104</th>\n",
       "      <th>202105</th>\n",
       "    </tr>\n",
       "  </thead>\n",
       "  <tbody>\n",
       "    <tr>\n",
       "      <th>체험</th>\n",
       "      <td>-53.597710</td>\n",
       "      <td>129.694359</td>\n",
       "      <td>133.823039</td>\n",
       "      <td>76.249155</td>\n",
       "      <td>40.029652</td>\n",
       "    </tr>\n",
       "    <tr>\n",
       "      <th>관광쇼핑</th>\n",
       "      <td>-74.361087</td>\n",
       "      <td>-13.473517</td>\n",
       "      <td>110.102920</td>\n",
       "      <td>157.061998</td>\n",
       "      <td>60.587320</td>\n",
       "    </tr>\n",
       "    <tr>\n",
       "      <th>사진촬영</th>\n",
       "      <td>-24.585484</td>\n",
       "      <td>28.758567</td>\n",
       "      <td>79.896153</td>\n",
       "      <td>56.767186</td>\n",
       "      <td>63.595863</td>\n",
       "    </tr>\n",
       "    <tr>\n",
       "      <th>미술공예참여</th>\n",
       "      <td>-30.636833</td>\n",
       "      <td>25.986760</td>\n",
       "      <td>73.101197</td>\n",
       "      <td>43.226271</td>\n",
       "      <td>24.578003</td>\n",
       "    </tr>\n",
       "    <tr>\n",
       "      <th>교육훈련</th>\n",
       "      <td>-17.478527</td>\n",
       "      <td>8.735889</td>\n",
       "      <td>87.120414</td>\n",
       "      <td>28.354335</td>\n",
       "      <td>8.876187</td>\n",
       "    </tr>\n",
       "    <tr>\n",
       "      <th>공연관람</th>\n",
       "      <td>-74.769694</td>\n",
       "      <td>-28.388829</td>\n",
       "      <td>48.916572</td>\n",
       "      <td>119.393675</td>\n",
       "      <td>48.269652</td>\n",
       "    </tr>\n",
       "    <tr>\n",
       "      <th>종교활동</th>\n",
       "      <td>-23.147142</td>\n",
       "      <td>45.444014</td>\n",
       "      <td>36.007406</td>\n",
       "      <td>21.649252</td>\n",
       "      <td>14.928082</td>\n",
       "    </tr>\n",
       "    <tr>\n",
       "      <th>교통</th>\n",
       "      <td>-47.240815</td>\n",
       "      <td>-4.666139</td>\n",
       "      <td>83.404389</td>\n",
       "      <td>37.296234</td>\n",
       "      <td>11.626906</td>\n",
       "    </tr>\n",
       "    <tr>\n",
       "      <th>헬스</th>\n",
       "      <td>-56.036712</td>\n",
       "      <td>-5.401657</td>\n",
       "      <td>77.165398</td>\n",
       "      <td>47.503930</td>\n",
       "      <td>13.752531</td>\n",
       "    </tr>\n",
       "    <tr>\n",
       "      <th>자전거</th>\n",
       "      <td>17.735279</td>\n",
       "      <td>89.726922</td>\n",
       "      <td>3.363443</td>\n",
       "      <td>-9.560723</td>\n",
       "      <td>-26.649230</td>\n",
       "    </tr>\n",
       "  </tbody>\n",
       "</table>\n",
       "</div>"
      ],
      "text/plain": [
       "이용년월       202101      202102      202103      202104     202105\n",
       "체험     -53.597710  129.694359  133.823039   76.249155  40.029652\n",
       "관광쇼핑   -74.361087  -13.473517  110.102920  157.061998  60.587320\n",
       "사진촬영   -24.585484   28.758567   79.896153   56.767186  63.595863\n",
       "미술공예참여 -30.636833   25.986760   73.101197   43.226271  24.578003\n",
       "교육훈련   -17.478527    8.735889   87.120414   28.354335   8.876187\n",
       "공연관람   -74.769694  -28.388829   48.916572  119.393675  48.269652\n",
       "종교활동   -23.147142   45.444014   36.007406   21.649252  14.928082\n",
       "교통     -47.240815   -4.666139   83.404389   37.296234  11.626906\n",
       "헬스     -56.036712   -5.401657   77.165398   47.503930  13.752531\n",
       "자전거     17.735279   89.726922    3.363443   -9.560723 -26.649230"
      ]
     },
     "execution_count": 43,
     "metadata": {},
     "output_type": "execute_result"
    }
   ],
   "source": [
    "NewNormalUse = use[36:].T\n",
    "UseRank = use[36:].mean().sort_values(ascending=False).index.tolist()\n",
    "NewNormalUse.reindex(UseRank).head(10)"
   ]
  },
  {
   "cell_type": "code",
   "execution_count": 44,
   "id": "9088dd8e",
   "metadata": {},
   "outputs": [
    {
     "data": {
      "text/html": [
       "<div>\n",
       "<style scoped>\n",
       "    .dataframe tbody tr th:only-of-type {\n",
       "        vertical-align: middle;\n",
       "    }\n",
       "\n",
       "    .dataframe tbody tr th {\n",
       "        vertical-align: top;\n",
       "    }\n",
       "\n",
       "    .dataframe thead th {\n",
       "        text-align: right;\n",
       "    }\n",
       "</style>\n",
       "<table border=\"1\" class=\"dataframe\">\n",
       "  <thead>\n",
       "    <tr style=\"text-align: right;\">\n",
       "      <th>이용년월</th>\n",
       "      <th>202101</th>\n",
       "      <th>202102</th>\n",
       "      <th>202103</th>\n",
       "      <th>202104</th>\n",
       "      <th>202105</th>\n",
       "    </tr>\n",
       "  </thead>\n",
       "  <tbody>\n",
       "    <tr>\n",
       "      <th>관광쇼핑</th>\n",
       "      <td>-76.198925</td>\n",
       "      <td>-26.972967</td>\n",
       "      <td>134.486853</td>\n",
       "      <td>222.736678</td>\n",
       "      <td>79.260276</td>\n",
       "    </tr>\n",
       "    <tr>\n",
       "      <th>공연관람</th>\n",
       "      <td>-7.458941</td>\n",
       "      <td>21.921755</td>\n",
       "      <td>101.135269</td>\n",
       "      <td>122.393146</td>\n",
       "      <td>71.327383</td>\n",
       "    </tr>\n",
       "    <tr>\n",
       "      <th>체험</th>\n",
       "      <td>-53.310850</td>\n",
       "      <td>78.445103</td>\n",
       "      <td>117.053869</td>\n",
       "      <td>96.273374</td>\n",
       "      <td>37.957899</td>\n",
       "    </tr>\n",
       "    <tr>\n",
       "      <th>골프</th>\n",
       "      <td>69.677603</td>\n",
       "      <td>44.627080</td>\n",
       "      <td>40.453681</td>\n",
       "      <td>24.240494</td>\n",
       "      <td>14.414709</td>\n",
       "    </tr>\n",
       "    <tr>\n",
       "      <th>헬스</th>\n",
       "      <td>-47.590037</td>\n",
       "      <td>6.437275</td>\n",
       "      <td>136.728384</td>\n",
       "      <td>64.651828</td>\n",
       "      <td>15.512372</td>\n",
       "    </tr>\n",
       "    <tr>\n",
       "      <th>숙박</th>\n",
       "      <td>-37.674609</td>\n",
       "      <td>5.609943</td>\n",
       "      <td>62.515964</td>\n",
       "      <td>59.418564</td>\n",
       "      <td>30.175128</td>\n",
       "    </tr>\n",
       "    <tr>\n",
       "      <th>자전거</th>\n",
       "      <td>40.526241</td>\n",
       "      <td>80.588139</td>\n",
       "      <td>21.340300</td>\n",
       "      <td>-4.783881</td>\n",
       "      <td>-35.233797</td>\n",
       "    </tr>\n",
       "    <tr>\n",
       "      <th>교육훈련</th>\n",
       "      <td>-14.998154</td>\n",
       "      <td>4.001342</td>\n",
       "      <td>78.585686</td>\n",
       "      <td>21.321526</td>\n",
       "      <td>4.773459</td>\n",
       "    </tr>\n",
       "    <tr>\n",
       "      <th>미술공예참여</th>\n",
       "      <td>-13.226246</td>\n",
       "      <td>4.367154</td>\n",
       "      <td>52.282482</td>\n",
       "      <td>20.406626</td>\n",
       "      <td>25.414078</td>\n",
       "    </tr>\n",
       "    <tr>\n",
       "      <th>종교활동</th>\n",
       "      <td>-6.886912</td>\n",
       "      <td>10.878522</td>\n",
       "      <td>50.106876</td>\n",
       "      <td>8.224519</td>\n",
       "      <td>24.385261</td>\n",
       "    </tr>\n",
       "  </tbody>\n",
       "</table>\n",
       "</div>"
      ],
      "text/plain": [
       "이용년월       202101     202102      202103      202104     202105\n",
       "관광쇼핑   -76.198925 -26.972967  134.486853  222.736678  79.260276\n",
       "공연관람    -7.458941  21.921755  101.135269  122.393146  71.327383\n",
       "체험     -53.310850  78.445103  117.053869   96.273374  37.957899\n",
       "골프      69.677603  44.627080   40.453681   24.240494  14.414709\n",
       "헬스     -47.590037   6.437275  136.728384   64.651828  15.512372\n",
       "숙박     -37.674609   5.609943   62.515964   59.418564  30.175128\n",
       "자전거     40.526241  80.588139   21.340300   -4.783881 -35.233797\n",
       "교육훈련   -14.998154   4.001342   78.585686   21.321526   4.773459\n",
       "미술공예참여 -13.226246   4.367154   52.282482   20.406626  25.414078\n",
       "종교활동    -6.886912  10.878522   50.106876    8.224519  24.385261"
      ]
     },
     "execution_count": 44,
     "metadata": {},
     "output_type": "execute_result"
    }
   ],
   "source": [
    "NewNormalAmount = amount[36:].T\n",
    "AmountRank = amount[36:].mean().sort_values(ascending=False).index.tolist()\n",
    "NewNormalAmount.reindex(amount[36:].mean().sort_values(ascending=False).index.tolist()).head(10)"
   ]
  },
  {
   "cell_type": "code",
   "execution_count": 45,
   "id": "5249f2b0",
   "metadata": {},
   "outputs": [
    {
     "data": {
      "text/html": [
       "<div>\n",
       "<style scoped>\n",
       "    .dataframe tbody tr th:only-of-type {\n",
       "        vertical-align: middle;\n",
       "    }\n",
       "\n",
       "    .dataframe tbody tr th {\n",
       "        vertical-align: top;\n",
       "    }\n",
       "\n",
       "    .dataframe thead th {\n",
       "        text-align: right;\n",
       "    }\n",
       "</style>\n",
       "<table border=\"1\" class=\"dataframe\">\n",
       "  <thead>\n",
       "    <tr style=\"text-align: right;\">\n",
       "      <th>이용년월</th>\n",
       "      <th>202101</th>\n",
       "      <th>202102</th>\n",
       "      <th>202103</th>\n",
       "      <th>202104</th>\n",
       "      <th>202105</th>\n",
       "    </tr>\n",
       "  </thead>\n",
       "  <tbody>\n",
       "    <tr>\n",
       "      <th>공연관람</th>\n",
       "      <td>34.230936</td>\n",
       "      <td>17.919491</td>\n",
       "      <td>55.071909</td>\n",
       "      <td>45.842802</td>\n",
       "      <td>37.351124</td>\n",
       "    </tr>\n",
       "    <tr>\n",
       "      <th>골프</th>\n",
       "      <td>49.162483</td>\n",
       "      <td>17.330742</td>\n",
       "      <td>38.304295</td>\n",
       "      <td>28.545640</td>\n",
       "      <td>15.324001</td>\n",
       "    </tr>\n",
       "    <tr>\n",
       "      <th>헬스</th>\n",
       "      <td>-11.209564</td>\n",
       "      <td>-0.024538</td>\n",
       "      <td>65.038830</td>\n",
       "      <td>30.164762</td>\n",
       "      <td>8.724148</td>\n",
       "    </tr>\n",
       "    <tr>\n",
       "      <th>자전거</th>\n",
       "      <td>26.031808</td>\n",
       "      <td>24.098856</td>\n",
       "      <td>27.867002</td>\n",
       "      <td>11.429722</td>\n",
       "      <td>-17.519825</td>\n",
       "    </tr>\n",
       "    <tr>\n",
       "      <th>애완동물돌보기</th>\n",
       "      <td>19.107936</td>\n",
       "      <td>-1.764672</td>\n",
       "      <td>19.000345</td>\n",
       "      <td>14.533753</td>\n",
       "      <td>13.955412</td>\n",
       "    </tr>\n",
       "    <tr>\n",
       "      <th>관광쇼핑</th>\n",
       "      <td>-47.048206</td>\n",
       "      <td>-23.795733</td>\n",
       "      <td>28.820798</td>\n",
       "      <td>64.763886</td>\n",
       "      <td>27.790496</td>\n",
       "    </tr>\n",
       "    <tr>\n",
       "      <th>사진촬영</th>\n",
       "      <td>-3.592203</td>\n",
       "      <td>-14.963661</td>\n",
       "      <td>27.622138</td>\n",
       "      <td>34.756478</td>\n",
       "      <td>4.340384</td>\n",
       "    </tr>\n",
       "    <tr>\n",
       "      <th>숙박</th>\n",
       "      <td>-20.995182</td>\n",
       "      <td>-12.420780</td>\n",
       "      <td>26.371727</td>\n",
       "      <td>37.262732</td>\n",
       "      <td>8.367453</td>\n",
       "    </tr>\n",
       "    <tr>\n",
       "      <th>체험</th>\n",
       "      <td>-32.691322</td>\n",
       "      <td>-12.172641</td>\n",
       "      <td>36.441028</td>\n",
       "      <td>33.914309</td>\n",
       "      <td>11.107385</td>\n",
       "    </tr>\n",
       "    <tr>\n",
       "      <th>교육훈련</th>\n",
       "      <td>2.006698</td>\n",
       "      <td>-14.339899</td>\n",
       "      <td>29.043486</td>\n",
       "      <td>15.367705</td>\n",
       "      <td>2.306186</td>\n",
       "    </tr>\n",
       "  </tbody>\n",
       "</table>\n",
       "</div>"
      ],
      "text/plain": [
       "이용년월        202101     202102     202103     202104     202105\n",
       "공연관람     34.230936  17.919491  55.071909  45.842802  37.351124\n",
       "골프       49.162483  17.330742  38.304295  28.545640  15.324001\n",
       "헬스      -11.209564  -0.024538  65.038830  30.164762   8.724148\n",
       "자전거      26.031808  24.098856  27.867002  11.429722 -17.519825\n",
       "애완동물돌보기  19.107936  -1.764672  19.000345  14.533753  13.955412\n",
       "관광쇼핑    -47.048206 -23.795733  28.820798  64.763886  27.790496\n",
       "사진촬영     -3.592203 -14.963661  27.622138  34.756478   4.340384\n",
       "숙박      -20.995182 -12.420780  26.371727  37.262732   8.367453\n",
       "체험      -32.691322 -12.172641  36.441028  33.914309  11.107385\n",
       "교육훈련      2.006698 -14.339899  29.043486  15.367705   2.306186"
      ]
     },
     "execution_count": 45,
     "metadata": {},
     "output_type": "execute_result"
    }
   ],
   "source": [
    "NewNormalAPU = amount_per_use[36:].T\n",
    "ApuRank = amount_per_use[36:].mean().sort_values(ascending=False).index.tolist()\n",
    "NewNormalAPU.reindex(ApuRank).head(10)"
   ]
  },
  {
   "cell_type": "code",
   "execution_count": 46,
   "id": "a8173170",
   "metadata": {},
   "outputs": [
    {
     "data": {
      "text/html": [
       "<div>\n",
       "<style scoped>\n",
       "    .dataframe tbody tr th:only-of-type {\n",
       "        vertical-align: middle;\n",
       "    }\n",
       "\n",
       "    .dataframe tbody tr th {\n",
       "        vertical-align: top;\n",
       "    }\n",
       "\n",
       "    .dataframe thead th {\n",
       "        text-align: right;\n",
       "    }\n",
       "</style>\n",
       "<table border=\"1\" class=\"dataframe\">\n",
       "  <thead>\n",
       "    <tr style=\"text-align: right;\">\n",
       "      <th></th>\n",
       "      <th>UseRank</th>\n",
       "      <th>AmountRank</th>\n",
       "      <th>ApuRank</th>\n",
       "    </tr>\n",
       "  </thead>\n",
       "  <tbody>\n",
       "    <tr>\n",
       "      <th>0</th>\n",
       "      <td>체험</td>\n",
       "      <td>관광쇼핑</td>\n",
       "      <td>공연관람</td>\n",
       "    </tr>\n",
       "    <tr>\n",
       "      <th>1</th>\n",
       "      <td>관광쇼핑</td>\n",
       "      <td>공연관람</td>\n",
       "      <td>골프</td>\n",
       "    </tr>\n",
       "    <tr>\n",
       "      <th>2</th>\n",
       "      <td>사진촬영</td>\n",
       "      <td>체험</td>\n",
       "      <td>헬스</td>\n",
       "    </tr>\n",
       "    <tr>\n",
       "      <th>3</th>\n",
       "      <td>미술공예참여</td>\n",
       "      <td>골프</td>\n",
       "      <td>자전거</td>\n",
       "    </tr>\n",
       "    <tr>\n",
       "      <th>4</th>\n",
       "      <td>교육훈련</td>\n",
       "      <td>헬스</td>\n",
       "      <td>애완동물돌보기</td>\n",
       "    </tr>\n",
       "    <tr>\n",
       "      <th>5</th>\n",
       "      <td>공연관람</td>\n",
       "      <td>숙박</td>\n",
       "      <td>관광쇼핑</td>\n",
       "    </tr>\n",
       "    <tr>\n",
       "      <th>6</th>\n",
       "      <td>종교활동</td>\n",
       "      <td>자전거</td>\n",
       "      <td>사진촬영</td>\n",
       "    </tr>\n",
       "    <tr>\n",
       "      <th>7</th>\n",
       "      <td>교통</td>\n",
       "      <td>교육훈련</td>\n",
       "      <td>숙박</td>\n",
       "    </tr>\n",
       "    <tr>\n",
       "      <th>8</th>\n",
       "      <td>헬스</td>\n",
       "      <td>미술공예참여</td>\n",
       "      <td>체험</td>\n",
       "    </tr>\n",
       "    <tr>\n",
       "      <th>9</th>\n",
       "      <td>자전거</td>\n",
       "      <td>종교활동</td>\n",
       "      <td>교육훈련</td>\n",
       "    </tr>\n",
       "  </tbody>\n",
       "</table>\n",
       "</div>"
      ],
      "text/plain": [
       "  UseRank AmountRank  ApuRank\n",
       "0      체험       관광쇼핑     공연관람\n",
       "1    관광쇼핑       공연관람       골프\n",
       "2    사진촬영         체험       헬스\n",
       "3  미술공예참여         골프      자전거\n",
       "4    교육훈련         헬스  애완동물돌보기\n",
       "5    공연관람         숙박     관광쇼핑\n",
       "6    종교활동        자전거     사진촬영\n",
       "7      교통       교육훈련       숙박\n",
       "8      헬스     미술공예참여       체험\n",
       "9     자전거       종교활동     교육훈련"
      ]
     },
     "execution_count": 46,
     "metadata": {},
     "output_type": "execute_result"
    }
   ],
   "source": [
    "Rank = {}\n",
    "\n",
    "Rank['UseRank'] = UseRank\n",
    "Rank['AmountRank'] = AmountRank\n",
    "Rank['ApuRank'] = ApuRank\n",
    "\n",
    "pd.DataFrame(Rank).head(10)"
   ]
  },
  {
   "cell_type": "markdown",
   "id": "660fc153",
   "metadata": {},
   "source": [
    "- 코로나가 장기화되면서 소비가 증가하고 있는 카테고리들의 순위\n",
    "- 코로나가 지속되면서 생기는 새로운 형태의 소비 업종들로서 뉴노멀 업종 트렌드로 볼 수 있음"
   ]
  },
  {
   "cell_type": "markdown",
   "id": "15026a63",
   "metadata": {},
   "source": [
    "- 결론\n",
    "    - 체험, 관광에 대한 욕구는 가득하지만, 코로나로 인한 불안감으로 조심하는 상황\n",
    "    - 이전과 다른 새로운 변화에 적응을 하며 나타는 뉴노멀 트랜드: 언택트(온라인), 자전거"
   ]
  },
  {
   "cell_type": "markdown",
   "id": "054e1037",
   "metadata": {},
   "source": [
    "# 외국인데이터"
   ]
  },
  {
   "cell_type": "code",
   "execution_count": 47,
   "id": "b434d232",
   "metadata": {},
   "outputs": [
    {
     "name": "stderr",
     "output_type": "stream",
     "text": [
      "C:\\Users\\user\\anaconda3\\lib\\site-packages\\IPython\\core\\interactiveshell.py:3165: DtypeWarning: Columns (2,10) have mixed types.Specify dtype option on import or set low_memory=False.\n",
      "  has_raised = await self.run_ast_nodes(code_ast.body, cell_name,\n"
     ]
    }
   ],
   "source": [
    "f_df = pd.read_table('C:/Users/user/python programming/공모전/FOREIGNER.txt',sep='|')\n",
    "f_df.columns=['국적', '17시 도', '시군구', '가맹점 대분류', '가맹점 소분류', '이용년월', '요일', '이용 시간대', '취급액', '이용건수','거주지']"
   ]
  },
  {
   "cell_type": "code",
   "execution_count": 48,
   "id": "d3778e25",
   "metadata": {},
   "outputs": [],
   "source": [
    "f_df = f_df.reindex(columns=['국적','거주지', '17시 도', '시군구', '가맹점 대분류', '가맹점 소분류', '이용년월', '요일', '이용 시간대', '취급액', '이용건수'])"
   ]
  },
  {
   "cell_type": "markdown",
   "id": "d1852b22",
   "metadata": {},
   "source": [
    "## 전처리"
   ]
  },
  {
   "cell_type": "code",
   "execution_count": 49,
   "id": "3c865998",
   "metadata": {},
   "outputs": [],
   "source": [
    "# f_df.isna().sum()"
   ]
  },
  {
   "cell_type": "markdown",
   "id": "4d792d1a",
   "metadata": {},
   "source": [
    "- 거주지와 시군구에 결측치가 존재하지만, 제거하기에는 데이터의 양이 너무 많고, 내국인 데이터와 비슷하게 분석할 것이기 때문에(해당 컬럼 필요없음) 결측치 처리하지 않고 그대로 진행 "
   ]
  },
  {
   "cell_type": "markdown",
   "id": "2eee4c69",
   "metadata": {},
   "source": [
    "## 코로나 전후 이용건수, 취급액 비교"
   ]
  },
  {
   "cell_type": "code",
   "execution_count": 50,
   "id": "01577a3a",
   "metadata": {},
   "outputs": [
    {
     "data": {
      "text/plain": [
       "<AxesSubplot:xlabel='이용년월'>"
      ]
     },
     "execution_count": 50,
     "metadata": {},
     "output_type": "execute_result"
    },
    {
     "data": {
      "image/png": "[encoded data removed]",
      "text/plain": [
       "<Figure size 864x432 with 1 Axes>"
      ]
     },
     "metadata": {
      "needs_background": "light"
     },
     "output_type": "display_data"
    }
   ],
   "source": [
    "plt.figure(figsize=(12,6))\n",
    "year = pd.DataFrame(f_df[['이용건수','취급액']].groupby(f_df['이용년월']).sum())\n",
    "(year['이용건수'].pct_change(periods=12)[12:]*100).plot(kind='bar')"
   ]
  },
  {
   "cell_type": "code",
   "execution_count": 51,
   "id": "b7dedc7e",
   "metadata": {},
   "outputs": [
    {
     "data": {
      "text/plain": [
       "<AxesSubplot:xlabel='이용년월'>"
      ]
     },
     "execution_count": 51,
     "metadata": {},
     "output_type": "execute_result"
    },
    {
     "data": {
      "image/png": "[encoded data removed]",
      "text/plain": [
       "<Figure size 864x432 with 1 Axes>"
      ]
     },
     "metadata": {
      "needs_background": "light"
     },
     "output_type": "display_data"
    }
   ],
   "source": [
    "plt.figure(figsize=(12,6))\n",
    "(year['취급액'].pct_change(periods=12)[12:]*100).plot(kind='bar')"
   ]
  },
  {
   "cell_type": "markdown",
   "id": "f2aeef36",
   "metadata": {},
   "source": [
    "## 시각화(코로나 전후 비교)"
   ]
  },
  {
   "cell_type": "markdown",
   "id": "e9e335bb",
   "metadata": {},
   "source": [
    "### 국가 별 코로나 전후 취급액"
   ]
  },
  {
   "cell_type": "code",
   "execution_count": 52,
   "id": "88aef1b0",
   "metadata": {},
   "outputs": [
    {
     "name": "stderr",
     "output_type": "stream",
     "text": [
      "<ipython-input-52-6a1037b1ce12>:7: SettingWithCopyWarning: \n",
      "A value is trying to be set on a copy of a slice from a DataFrame.\n",
      "Try using .loc[row_indexer,col_indexer] = value instead\n",
      "\n",
      "See the caveats in the documentation: https://pandas.pydata.org/pandas-docs/stable/user_guide/indexing.html#returning-a-view-versus-a-copy\n",
      "  tem['건당취급액'] = tem['취급액']/ tem['이용건수']\n"
     ]
    }
   ],
   "source": [
    "use = {}\n",
    "amount = {}\n",
    "amount_per_use = {}\n",
    "\n",
    "for i in f_df['국적'].unique().tolist():\n",
    "    tem = f_df[f_df['국적']==i]\n",
    "    tem['건당취급액'] = tem['취급액']/ tem['이용건수']\n",
    "    tmp = pd.DataFrame(tem[['이용건수','취급액','건당취급액']].groupby(tem['이용년월']).sum())\n",
    "    \n",
    "    t = tmp['이용건수'].pct_change(periods=12)[12:]*100\n",
    "    use[i] = t\n",
    "    \n",
    "    t = tmp['취급액'].pct_change(periods=12)[12:]*100\n",
    "    amount[i] = t\n",
    "    \n",
    "    t = tmp['건당취급액'].pct_change(periods=12)[12:]*100\n",
    "    amount_per_use[i] = t"
   ]
  },
  {
   "cell_type": "code",
   "execution_count": 53,
   "id": "915b1bf5",
   "metadata": {},
   "outputs": [],
   "source": [
    "use = pd.DataFrame(use)\n",
    "amount = pd.DataFrame(amount)\n",
    "amount_per_use = pd.DataFrame(amount_per_use)"
   ]
  },
  {
   "cell_type": "code",
   "execution_count": 54,
   "id": "1bc73a51",
   "metadata": {},
   "outputs": [],
   "source": [
    "CovidChangeUse = use[24:].mean().sort_values(ascending=False)\n",
    "CovidChangeAmount = amount[24:].mean().sort_values(ascending=False)\n",
    "CovidChangeAPU = amount_per_use[24:].mean().sort_values(ascending=False)"
   ]
  },
  {
   "cell_type": "code",
   "execution_count": 55,
   "id": "b0595cdb",
   "metadata": {},
   "outputs": [
    {
     "data": {
      "text/plain": [
       "<AxesSubplot:>"
      ]
     },
     "execution_count": 55,
     "metadata": {},
     "output_type": "execute_result"
    },
    {
     "data": {
      "image/png": "[encoded data removed]",
      "text/plain": [
       "<Figure size 1440x720 with 1 Axes>"
      ]
     },
     "metadata": {
      "needs_background": "light"
     },
     "output_type": "display_data"
    }
   ],
   "source": [
    "plt.rcParams[\"figure.figsize\"] = (20,10)\n",
    "\n",
    "CovidChangeUse.plot(kind='bar')\n",
    "CovidChangeAmount.plot(kind='bar')\n",
    "CovidChangeAPU.plot(kind='bar')"
   ]
  },
  {
   "cell_type": "markdown",
   "id": "6e1a8d13",
   "metadata": {},
   "source": [
    "### 가맹점 소분류 별 코로나 전후 취급액 비교"
   ]
  },
  {
   "cell_type": "code",
   "execution_count": 56,
   "id": "d05dadb2",
   "metadata": {},
   "outputs": [
    {
     "data": {
      "text/plain": [
       "array(['기타지출', '스포츠센타/레포츠클럽', '피부미용', '기타', '개인병원', '산후조리원', '종합병원',\n",
       "       '할인점/편의점', '기타쇼핑', '약국', '한식외', '관광여행사', '의류잡화', '레저스포츠', '화장품',\n",
       "       '테니스장', '수중장비', '그외숙박', '보트판매', '유흥', '관광상품', '수영장', '종합레저타운/놀이동산',\n",
       "       '음료제과', '수련원,체험장', '스키장', '가전전자제품', '실외골프장', '1급2급호텔', '실내골프장',\n",
       "       '보건소', '동물농장', '특급호텔', '이용,미용', '수족관', '응급실운영  병원', '볼링장', '목욕시설',\n",
       "       '공연장,극장', '쇼핑몰', '오락시설', '면세점', '접골원', '의료기기,건강진단', '백화점', '한식',\n",
       "       '운동경기관람', '당구장', '한의원,한약방', '치과병원', '자전거(성인용)'], dtype=object)"
      ]
     },
     "execution_count": 56,
     "metadata": {},
     "output_type": "execute_result"
    }
   ],
   "source": [
    "f_df['가맹점 소분류'].unique()"
   ]
  },
  {
   "cell_type": "code",
   "execution_count": 57,
   "id": "588791c9",
   "metadata": {},
   "outputs": [
    {
     "name": "stderr",
     "output_type": "stream",
     "text": [
      "<ipython-input-57-c691268a7132>:7: SettingWithCopyWarning: \n",
      "A value is trying to be set on a copy of a slice from a DataFrame.\n",
      "Try using .loc[row_indexer,col_indexer] = value instead\n",
      "\n",
      "See the caveats in the documentation: https://pandas.pydata.org/pandas-docs/stable/user_guide/indexing.html#returning-a-view-versus-a-copy\n",
      "  tem['건당취급액'] = tem['취급액']/ tem['이용건수']\n"
     ]
    }
   ],
   "source": [
    "use = {}\n",
    "amount = {}\n",
    "amount_per_use = {}\n",
    "\n",
    "for i in f_df['가맹점 소분류'].unique().tolist():\n",
    "    tem = f_df[f_df['가맹점 소분류']==i]\n",
    "    tem['건당취급액'] = tem['취급액']/ tem['이용건수']\n",
    "    tmp = pd.DataFrame(tem[['이용건수','취급액','건당취급액']].groupby(tem['이용년월']).sum())\n",
    "    \n",
    "    t = tmp['이용건수'].pct_change(periods=12)[12:]*100\n",
    "    use[i] = t\n",
    "    \n",
    "    t = tmp['취급액'].pct_change(periods=12)[12:]*100\n",
    "    amount[i] = t\n",
    "    \n",
    "    t = tmp['건당취급액'].pct_change(periods=12)[12:]*100\n",
    "    amount_per_use[i] = t"
   ]
  },
  {
   "cell_type": "code",
   "execution_count": 58,
   "id": "2f224956",
   "metadata": {},
   "outputs": [],
   "source": [
    "use = pd.DataFrame(use)\n",
    "amount = pd.DataFrame(amount)\n",
    "amount_per_use = pd.DataFrame(amount_per_use)"
   ]
  },
  {
   "cell_type": "code",
   "execution_count": 60,
   "id": "f95827c7",
   "metadata": {},
   "outputs": [],
   "source": [
    "CovidChangeUse = use[24:].mean().sort_values(ascending=False)\n",
    "CovidChangeAmount = amount[24:].mean().sort_values(ascending=False)\n",
    "CovidChangeAPU = amount_per_use[24:].mean().sort_values(ascending=False)"
   ]
  },
  {
   "cell_type": "code",
   "execution_count": 61,
   "id": "3e42d058",
   "metadata": {},
   "outputs": [
    {
     "data": {
      "text/plain": [
       "<AxesSubplot:>"
      ]
     },
     "execution_count": 61,
     "metadata": {},
     "output_type": "execute_result"
    },
    {
     "data": {
      "image/png": "[encoded data removed]",
      "text/plain": [
       "<Figure size 1440x720 with 1 Axes>"
      ]
     },
     "metadata": {
      "needs_background": "light"
     },
     "output_type": "display_data"
    }
   ],
   "source": [
    "plt.rcParams[\"figure.figsize\"] = (20,10)\n",
    "\n",
    "CovidChangeUse.plot(kind='bar')\n",
    "CovidChangeAmount.plot(kind='bar')\n",
    "CovidChangeAPU.plot(kind='bar')"
   ]
  },
  {
   "cell_type": "markdown",
   "id": "5f95a60b",
   "metadata": {},
   "source": [
    "- 스키장에 대한 외국인의 사랑을 확인할 수 있었다.."
   ]
  }
 ],
 "metadata": {
  "kernelspec": {
   "display_name": "Python 3",
   "language": "python",
   "name": "python3"
  },
  "language_info": {
   "codemirror_mode": {
    "name": "ipython",
    "version": 3
   },
   "file_extension": ".py",
   "mimetype": "text/x-python",
   "name": "python",
   "nbconvert_exporter": "python",
   "pygments_lexer": "ipython3",
   "version": "3.8.8"
  },
  "toc": {
   "base_numbering": 1,
   "nav_menu": {},
   "number_sections": true,
   "sideBar": true,
   "skip_h1_title": false,
   "title_cell": "Table of Contents",
   "title_sidebar": "Contents",
   "toc_cell": false,
   "toc_position": {
    "height": "calc(100% - 180px)",
    "left": "10px",
    "top": "150px",
    "width": "307.188px"
   },
   "toc_section_display": true,
   "toc_window_display": true
  }
 },
 "nbformat": 4,
 "nbformat_minor": 5
}
